{
 "cells": [
  {
   "cell_type": "code",
   "execution_count": null,
   "id": "d0e92390",
   "metadata": {},
   "outputs": [],
   "source": [
    "from sympy import symbols, sqrt, Eq, solveset, lambdify\n",
    "x, y, z = symbols('x y z')\n",
    "r = symbols('r')\n",
    "c, k, R = symbols('c k R')\n",
    "A, B, C, D, E, F, G, H, I, J = symbols('A B C D E F G H I J')"
   ]
  },
  {
   "cell_type": "markdown",
   "id": "e33021d6",
   "metadata": {},
   "source": [
    "## Lens design formula: canonical quadric form"
   ]
  },
  {
   "cell_type": "code",
   "execution_count": null,
   "id": "d050ed17",
   "metadata": {},
   "outputs": [],
   "source": [
    "## Lens design surface equation for 'Standard'.\n",
    "eq_ld = Eq(z, c * r**2 / (1 + sqrt(1 - (1+k) * c**2 * r**2)))\n",
    "eq_ld"
   ]
  },
  {
   "cell_type": "code",
   "execution_count": null,
   "id": "79afc432",
   "metadata": {},
   "outputs": [],
   "source": [
    "## General quadric formula\n",
    "eq_quad = Eq(A*x**2 + B*y**2 + C*z**2 + D*x*y + E*y*z + \\\n",
    "      F*x*z + G*x + H*y + I*z + J, 0)\n",
    "eq_quad"
   ]
  },
  {
   "cell_type": "code",
   "execution_count": null,
   "id": "f32495a1",
   "metadata": {},
   "outputs": [],
   "source": [
    "## Lens design formula as canonical quadric\n",
    "eq_ld_quad = eq_quad.subs([\n",
    "    (A, 1), (B, 1),\n",
    "    (C, (k+1)), (I, -2*R),\n",
    "    (D,0), (E, 0), (F, 0), (G, 0), (H, 0), (J, 0)])\n",
    "eq_ld_quad"
   ]
  },
  {
   "cell_type": "markdown",
   "id": "dbf6710b",
   "metadata": {},
   "source": [
    "## From general quadric to single sheet z= form"
   ]
  },
  {
   "cell_type": "code",
   "execution_count": null,
   "id": "e5d32ffb",
   "metadata": {},
   "outputs": [],
   "source": [
    "import matplotlib.pyplot as plt\n",
    "import numpy as np"
   ]
  },
  {
   "cell_type": "code",
   "execution_count": null,
   "id": "8d3437f4",
   "metadata": {},
   "outputs": [],
   "source": [
    "## Getting back to the original 'z =' form.\n",
    "z_sols = solveset(eq_ld_quad, z).simplify()\n",
    "\n",
    "## We have two sheets\n",
    "z_1 = list(z_sols)[0]\n",
    "z_2 = list(z_sols)[1]\n",
    "display(z_1); display(z_2)"
   ]
  },
  {
   "cell_type": "code",
   "execution_count": null,
   "id": "91cde003",
   "metadata": {},
   "outputs": [],
   "source": [
    "## Plotting the two sheets\n",
    "def zr1 (r, R, k):\n",
    "    zr1 = (R + np.sqrt(R**2 - (k+1) * r**2)) / (k+1)\n",
    "    return zr1\n",
    "\n",
    "def zr2 (r, R, k):\n",
    "    zr2 = (R - np.sqrt(R**2 - (k+1) * r**2)) / (k+1)\n",
    "    return zr2\n",
    "\n",
    "## The considered sheet can be either sheet 1 or sheet 2.\n",
    "## We have to choose the one with z(r=0) = 0 in it\n",
    "## on a case-by-case basis.\n",
    "\n",
    "def zrsol (r, R, k):\n",
    "    \"\"\"Solution considered.\"\"\"\n",
    "    z = (R - np.sign(R) * np.sqrt(R**2 - (k+1) * r**2)) / (k+1)\n",
    "    return z\n",
    "\n",
    "R_val = -10\n",
    "k_val = 3\n",
    "r_val = np.linspace(-5, 5)\n",
    "zp1 = zr1(r_val, R_val, k_val)\n",
    "zp2 = zr2(r_val, R_val, k_val)\n",
    "zpsol = zrsol(r_val, R_val, k_val)\n",
    "\n",
    "plt.figure()\n",
    "plt.plot(r_val, zp1, label='Sheet 1');\n",
    "plt.plot(r_val, zp2, label='Sheet 2');\n",
    "plt.plot(r_val, zpsol, label='Solution');\n",
    "plt.legend(); plt.grid();"
   ]
  },
  {
   "cell_type": "markdown",
   "id": "64e6f49c",
   "metadata": {},
   "source": [
    "## Behaviour of the standard formula\n",
    "We check the \"smoothness\" of the behaviour of the standard formula with\n",
    "respect to parameter $k$."
   ]
  },
  {
   "cell_type": "code",
   "execution_count": null,
   "id": "0688a7a7",
   "metadata": {},
   "outputs": [],
   "source": [
    "kvec = [-3, -2, -1.1, -1, -0.9, 0, 1, 2]\n",
    "curv = 1 / 100\n",
    "\n",
    "def z_std (r, k, c):\n",
    "    \"\"\"Standard altitude formula.\"\"\"\n",
    "    z = c * r**2 / (1 + np.sqrt(1 - (k+1) * r**2 * c**2))\n",
    "    return z\n",
    "\n",
    "rvec = np.linspace(-10, 10)\n",
    "z_sphere = z_std(rvec, 0, curv)\n",
    "\n",
    "plt.figure()\n",
    "for k in kvec:\n",
    "    zvec = z_std(rvec, k, curv) - z_sphere\n",
    "    plt.plot(rvec, zvec, label='k=' + str(k))\n",
    "plt.grid(); plt.legend();"
   ]
  },
  {
   "cell_type": "markdown",
   "id": "0183f1e7",
   "metadata": {},
   "source": [
    "We see the behaviour is indeed smooth."
   ]
  }
 ],
 "metadata": {
  "kernelspec": {
   "display_name": "Python 3 (ipykernel)",
   "language": "python",
   "name": "python3"
  },
  "language_info": {
   "codemirror_mode": {
    "name": "ipython",
    "version": 3
   },
   "file_extension": ".py",
   "mimetype": "text/x-python",
   "name": "python",
   "nbconvert_exporter": "python",
   "pygments_lexer": "ipython3",
   "version": "3.11.0"
  },
  "toc": {
   "base_numbering": 1,
   "nav_menu": {},
   "number_sections": true,
   "sideBar": true,
   "skip_h1_title": false,
   "title_cell": "Table of Contents",
   "title_sidebar": "Contents",
   "toc_cell": false,
   "toc_position": {},
   "toc_section_display": true,
   "toc_window_display": false
  }
 },
 "nbformat": 4,
 "nbformat_minor": 5
}
