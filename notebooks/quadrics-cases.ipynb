{
 "cells": [
  {
   "cell_type": "code",
   "execution_count": null,
   "id": "d0e92390",
   "metadata": {},
   "outputs": [],
   "source": [
    "from sympy import symbols, sqrt, Eq, simplify, expand, solveset, collect\n",
    "x, y, z = symbols('x y z')\n",
    "r = symbols('r')\n",
    "c, k = symbols('c k')\n",
    "A, B, C, D, E, F, G, H, I, J = symbols('A B C D E F G H I J')"
   ]
  },
  {
   "cell_type": "markdown",
   "id": "e33021d6",
   "metadata": {},
   "source": [
    "## Lens design formula: canonical quadric form"
   ]
  },
  {
   "cell_type": "code",
   "execution_count": null,
   "id": "d050ed17",
   "metadata": {},
   "outputs": [],
   "source": [
    "## Lens design surface equation for 'Standard'.\n",
    "eq_ld = Eq(z, c * r**2 / (1 + sqrt(1 - (1+k) * c**2 * r**2)))\n",
    "eq_ld"
   ]
  },
  {
   "cell_type": "code",
   "execution_count": null,
   "id": "79afc432",
   "metadata": {},
   "outputs": [],
   "source": [
    "## General quadric formula\n",
    "eq_quad = Eq(A*x**2 + B*y**2 + C*z**2 + D*x*y + E*y*z + \\\n",
    "      F*x*z + G*x + H*y + I*z + J, 0)\n",
    "eq_quad"
   ]
  },
  {
   "cell_type": "code",
   "execution_count": null,
   "id": "f32495a1",
   "metadata": {},
   "outputs": [],
   "source": [
    "## Lens design formula as canonical quadric\n",
    "eq_os_quad = eq_rev.subs([(C, (k+1)), (I, -2/c), (J, 0)])\n",
    "eq_os_quad"
   ]
  },
  {
   "cell_type": "code",
   "execution_count": null,
   "id": "eb2cda62",
   "metadata": {},
   "outputs": [],
   "source": [
    "## Getting back to the original 'z =' form.\n",
    "solveset(eq_os_quad, z).simplify()"
   ]
  },
  {
   "cell_type": "markdown",
   "id": "af3daead",
   "metadata": {},
   "source": [
    "## Interactive plotly"
   ]
  },
  {
   "cell_type": "code",
   "execution_count": null,
   "id": "f70ed106",
   "metadata": {},
   "outputs": [],
   "source": [
    "import numpy as np\n",
    "import plotly.graph_objects as go"
   ]
  },
  {
   "cell_type": "code",
   "execution_count": null,
   "id": "802ee2ce",
   "metadata": {},
   "outputs": [],
   "source": [
    "x = np.linspace(-5.0, 5.0, num=50); y = x\n",
    "xs, ys = np.meshgrid(x, y)\n",
    "\n",
    "sphere_rad = -30\n",
    "z_sphere = sphere_rad * (1 - np.sqrt(1- (xs**2 + ys**2)/(sphere_rad**2)))\n",
    "\n",
    "k = -3 # Conic constant\n",
    "c = 1 / sphere_rad\n",
    "r = np.sqrt(xs**2 + ys**2)\n",
    "\n",
    "## Two solution sheets, the one we choose is z_std_1.\n",
    "z_std_1 = c * r**2 / (1 + np.sqrt(1 - (k+1) * c**2 * r**2))\n",
    "z_std_2 = c * r**2 / (1 - np.sqrt(1 - (k+1) * c**2 * r**2))\n",
    "\n",
    "sphere = go.Surface(x = x, y = y, z = z_sphere, opacity=0.5,\n",
    "                    name='sphere')\n",
    "std_1 = go.Surface(x = x, y = y, z = z_std_1, opacity=0.5,\n",
    "                   name='sheet 1')\n",
    "std_2 = go.Surface(x = x, y = y, z = z_std_2, opacity=0.1,\n",
    "                   name='sheet 2')\n",
    "\n",
    "fig = go.Figure(data=[sphere, std_1])\n",
    "fig.update_layout(scene = {'aspectratio': {'x': 1, 'y': 1, 'z': 0.5}})\n",
    "fig.show()"
   ]
  },
  {
   "cell_type": "code",
   "execution_count": null,
   "id": "8d3437f4",
   "metadata": {},
   "outputs": [],
   "source": []
  }
 ],
 "metadata": {
  "kernelspec": {
   "display_name": "Python 3 (ipykernel)",
   "language": "python",
   "name": "python3"
  },
  "language_info": {
   "codemirror_mode": {
    "name": "ipython",
    "version": 3
   },
   "file_extension": ".py",
   "mimetype": "text/x-python",
   "name": "python",
   "nbconvert_exporter": "python",
   "pygments_lexer": "ipython3",
   "version": "3.11.0"
  },
  "toc": {
   "base_numbering": 1,
   "nav_menu": {},
   "number_sections": true,
   "sideBar": true,
   "skip_h1_title": false,
   "title_cell": "Table of Contents",
   "title_sidebar": "Contents",
   "toc_cell": false,
   "toc_position": {},
   "toc_section_display": true,
   "toc_window_display": false
  }
 },
 "nbformat": 4,
 "nbformat_minor": 5
}
