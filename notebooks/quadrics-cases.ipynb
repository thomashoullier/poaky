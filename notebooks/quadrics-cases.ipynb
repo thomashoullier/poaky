{
 "cells": [
  {
   "cell_type": "code",
   "execution_count": null,
   "id": "d0e92390",
   "metadata": {},
   "outputs": [],
   "source": [
    "from sympy import symbols, sqrt, Eq, solveset, lambdify, S, solve\n",
    "x, y, z = symbols('x y z', real=True)\n",
    "x_p, y_p, l, m, n, t = symbols('x_p y_p l m n t', real=True)\n",
    "r = symbols('r', real=True)\n",
    "c, k, R = symbols('c k R', real=True)\n",
    "A, B, C, D, E, F, G, H, I, J = symbols('A B C D E F G H I J', real=True)"
   ]
  },
  {
   "cell_type": "markdown",
   "id": "e33021d6",
   "metadata": {},
   "source": [
    "## Lens design formula: canonical quadric form"
   ]
  },
  {
   "cell_type": "code",
   "execution_count": null,
   "id": "d050ed17",
   "metadata": {},
   "outputs": [],
   "source": [
    "## Lens design surface equation for 'Standard'.\n",
    "eq_ld = Eq(z, c * r**2 / (1 + sqrt(1 - (1+k) * c**2 * r**2)))\n",
    "eq_ld"
   ]
  },
  {
   "cell_type": "code",
   "execution_count": null,
   "id": "79afc432",
   "metadata": {},
   "outputs": [],
   "source": [
    "## General quadric formula\n",
    "eq_quad = Eq(A*x**2 + B*y**2 + C*z**2 + D*x*y + E*y*z + \\\n",
    "      F*x*z + G*x + H*y + I*z + J, 0)\n",
    "eq_quad"
   ]
  },
  {
   "cell_type": "code",
   "execution_count": null,
   "id": "f32495a1",
   "metadata": {},
   "outputs": [],
   "source": [
    "## Lens design formula as canonical quadric\n",
    "eq_ld_quad = eq_quad.subs([\n",
    "    (A, 1), (B, 1),\n",
    "    (C, (k+1)), (I, -2*R),\n",
    "    (D,0), (E, 0), (F, 0), (G, 0), (H, 0), (J, 0)])\n",
    "eq_ld_quad"
   ]
  },
  {
   "cell_type": "markdown",
   "id": "dbf6710b",
   "metadata": {},
   "source": [
    "## From general quadric to single sheet z= form"
   ]
  },
  {
   "cell_type": "code",
   "execution_count": null,
   "id": "e5d32ffb",
   "metadata": {},
   "outputs": [],
   "source": [
    "import matplotlib.pyplot as plt\n",
    "import numpy as np"
   ]
  },
  {
   "cell_type": "code",
   "execution_count": null,
   "id": "8d3437f4",
   "metadata": {},
   "outputs": [],
   "source": [
    "## Getting back to the original 'z =' form.\n",
    "z_sols = solveset(eq_ld_quad, z).simplify()\n",
    "\n",
    "## We have two sheets\n",
    "z_1 = list(z_sols)[0]\n",
    "z_2 = list(z_sols)[1]\n",
    "display(z_1); display(z_2)"
   ]
  },
  {
   "cell_type": "code",
   "execution_count": null,
   "id": "91cde003",
   "metadata": {},
   "outputs": [],
   "source": [
    "## Plotting the two sheets\n",
    "def zr1 (r, R, k):\n",
    "    zr1 = (R + np.sqrt(R**2 - (k+1) * r**2)) / (k+1)\n",
    "    return zr1\n",
    "\n",
    "def zr2 (r, R, k):\n",
    "    zr2 = (R - np.sqrt(R**2 - (k+1) * r**2)) / (k+1)\n",
    "    return zr2\n",
    "\n",
    "## The considered sheet can be either sheet 1 or sheet 2.\n",
    "## We have to choose the one with z(r=0) = 0 in it\n",
    "## on a case-by-case basis.\n",
    "\n",
    "def zrsol (r, R, k):\n",
    "    \"\"\"Solution considered.\"\"\"\n",
    "    z = (R - np.sign(R) * np.sqrt(R**2 - (k+1) * r**2)) / (k+1)\n",
    "    return z\n",
    "\n",
    "R_val = -10\n",
    "k_val = 3\n",
    "r_val = np.linspace(-5, 5)\n",
    "zp1 = zr1(r_val, R_val, k_val)\n",
    "zp2 = zr2(r_val, R_val, k_val)\n",
    "zpsol = zrsol(r_val, R_val, k_val)\n",
    "\n",
    "plt.figure()\n",
    "plt.plot(r_val, zp1, label='Sheet 1');\n",
    "plt.plot(r_val, zp2, label='Sheet 2');\n",
    "plt.plot(r_val, zpsol, label='Solution');\n",
    "plt.legend(); plt.grid();"
   ]
  },
  {
   "cell_type": "markdown",
   "id": "64e6f49c",
   "metadata": {},
   "source": [
    "## Behaviour of the standard formula\n",
    "We check the \"smoothness\" of the behaviour of the standard formula with\n",
    "respect to parameter $k$."
   ]
  },
  {
   "cell_type": "code",
   "execution_count": null,
   "id": "0688a7a7",
   "metadata": {},
   "outputs": [],
   "source": [
    "kvec = [-3, -2, -1.1, -1, -0.9, 0, 1, 2]\n",
    "curv = 1 / 100\n",
    "\n",
    "def z_std (r, k, c):\n",
    "    \"\"\"Standard altitude formula.\"\"\"\n",
    "    z = c * r**2 / (1 + np.sqrt(1 - (k+1) * r**2 * c**2))\n",
    "    return z\n",
    "\n",
    "rvec = np.linspace(-10, 10)\n",
    "z_sphere = z_std(rvec, 0, curv)\n",
    "\n",
    "plt.figure()\n",
    "for kp in kvec:\n",
    "    zvec = z_std(rvec, kp, curv) - z_sphere\n",
    "    plt.plot(rvec, zvec, label='k=' + str(kp))\n",
    "plt.grid(); plt.legend();"
   ]
  },
  {
   "cell_type": "markdown",
   "id": "0183f1e7",
   "metadata": {},
   "source": [
    "We see the behaviour is indeed smooth."
   ]
  },
  {
   "cell_type": "markdown",
   "id": "9226c463",
   "metadata": {},
   "source": [
    "## Intersection with ray\n",
    "We have a ray with expression\n",
    "$$\\begin{bmatrix}\n",
    "x_p + t \\cdot l \\\\\n",
    "y_p + t \\cdot m \\\\\n",
    "t \\cdot n\n",
    "\\end{bmatrix}$$\n",
    "\n",
    "We want the intersection point with the standard surface."
   ]
  },
  {
   "cell_type": "code",
   "execution_count": null,
   "id": "19c0b179",
   "metadata": {},
   "outputs": [],
   "source": [
    "unit_eq = Eq(1, l**2 + m**2 + n**2)\n",
    "unit_eq"
   ]
  },
  {
   "cell_type": "markdown",
   "id": "4be6fd4f",
   "metadata": {},
   "source": [
    "### Using surface altitude expression"
   ]
  },
  {
   "cell_type": "code",
   "execution_count": null,
   "id": "a314076e",
   "metadata": {},
   "outputs": [],
   "source": [
    "## Standard surface expression\n",
    "eq_ld_xyz = eq_ld.subs([(r**2, x**2 + y**2)])\n",
    "eq_ld_xyz"
   ]
  },
  {
   "cell_type": "code",
   "execution_count": null,
   "id": "65229b57",
   "metadata": {},
   "outputs": [],
   "source": [
    "## We substitute the ray expression into the surface expression\n",
    "eq_ld_ray = eq_ld_xyz.subs([(x, x_p + t*l),\n",
    "                            (y, y_p + t*m),\n",
    "                            (z, t*n)])\n",
    "eq_ld_ray"
   ]
  },
  {
   "cell_type": "code",
   "execution_count": null,
   "id": "5ceec5c0",
   "metadata": {},
   "outputs": [],
   "source": [
    "sols = solveset(eq_ld_ray, t, domain=S.Reals)"
   ]
  },
  {
   "cell_type": "code",
   "execution_count": null,
   "id": "7440046c",
   "metadata": {},
   "outputs": [],
   "source": [
    "sol1 = sols.args[1].args[2]\n",
    "sol2 = sols.args[1].args[3]\n",
    "display(sol1, sol2)\n",
    "\n",
    "## The denominator is not super stable."
   ]
  },
  {
   "cell_type": "markdown",
   "id": "ca4a31ac",
   "metadata": {},
   "source": [
    "### Using general quadric form"
   ]
  },
  {
   "cell_type": "code",
   "execution_count": null,
   "id": "c845c8c3",
   "metadata": {},
   "outputs": [],
   "source": [
    "## Solving using the general quadric expression\n",
    "eq_quad_ray = eq_ld_quad.subs([(x, x_p + t*l),\n",
    "                               (y, y_p + t*m),\n",
    "                               (z, t*n)])\n",
    "eq_quad_ray"
   ]
  },
  {
   "cell_type": "code",
   "execution_count": null,
   "id": "d451bdd3",
   "metadata": {},
   "outputs": [],
   "source": [
    "sols_quad = solveset(eq_quad_ray, t, domain=S.Reals)\n",
    "sols_quad.args[1]\n",
    "## Denominator is still a problem (eg. for k = 0)."
   ]
  },
  {
   "cell_type": "markdown",
   "id": "115bd732",
   "metadata": {},
   "source": [
    "### Welford's solution"
   ]
  },
  {
   "cell_type": "code",
   "execution_count": null,
   "id": "d3895be3",
   "metadata": {},
   "outputs": [],
   "source": [
    "WF = c * (x_p**2 + y_p**2)\n",
    "WG = n - c * (l * x_p + m * y_p)\n",
    "tsol = WF / (WG + sqrt(WG**2 - c * WF * (1 + k * n**2)))\n",
    "display(tsol)\n",
    "## This appears more numerically robust."
   ]
  },
  {
   "cell_type": "code",
   "execution_count": null,
   "id": "baaf3b74",
   "metadata": {},
   "outputs": [],
   "source": [
    "## Check if this is indeed a solution\n",
    "welford_check = eq_quad_ray.subs([(t, tsol), (R, 1/c)])\n",
    "display(welford_check)\n",
    "nval1 = sqrt(1 - l**2 - m**2)\n",
    "nval2 = -sqrt(1 - l**2 - m**2)\n",
    "welford_check1 = welford_check.subs([(n, nval1)])\n",
    "welford_check2 = welford_check.subs([(n, nval2)])\n",
    "display(welford_check1.simplify())\n",
    "display(welford_check2.simplify())"
   ]
  },
  {
   "cell_type": "code",
   "execution_count": null,
   "id": "7c221b2e",
   "metadata": {},
   "outputs": [],
   "source": [
    "## Just to check we are on the right sheet, we check a sample with the surface equation.\n",
    "welford_check_surf = eq_ld_ray.subs([(t, tsol), (R, 1/c)])\n",
    "welford_check_surf = welford_check_surf.subs([(l, 0), (m, 0), (n, 1)])\n",
    "display(welford_check_surf)"
   ]
  }
 ],
 "metadata": {
  "kernelspec": {
   "display_name": "Python 3 (ipykernel)",
   "language": "python",
   "name": "python3"
  },
  "language_info": {
   "codemirror_mode": {
    "name": "ipython",
    "version": 3
   },
   "file_extension": ".py",
   "mimetype": "text/x-python",
   "name": "python",
   "nbconvert_exporter": "python",
   "pygments_lexer": "ipython3",
   "version": "3.11.0"
  },
  "toc": {
   "base_numbering": 1,
   "nav_menu": {},
   "number_sections": true,
   "sideBar": true,
   "skip_h1_title": false,
   "title_cell": "Table of Contents",
   "title_sidebar": "Contents",
   "toc_cell": false,
   "toc_position": {},
   "toc_section_display": true,
   "toc_window_display": false
  }
 },
 "nbformat": 4,
 "nbformat_minor": 5
}
